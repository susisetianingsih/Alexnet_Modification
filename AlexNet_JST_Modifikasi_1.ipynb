{
  "cells": [
    {
      "cell_type": "markdown",
      "metadata": {
        "id": "lu31sd9tEb2h"
      },
      "source": [
        "Library"
      ]
    },
    {
      "cell_type": "code",
      "execution_count": null,
      "metadata": {
        "id": "E352XoruBvUk"
      },
      "outputs": [],
      "source": [
        "import os\n",
        "os.environ['TF_CPP_MIN_LOG_LEVEL'] = '3' \n",
        "import numpy as np\n",
        "import matplotlib.pyplot as plt\n",
        "import seaborn as sns\n",
        "import tensorflow as tf\n",
        "import pickle\n",
        "import time\n",
        "from tensorflow import keras\n",
        "from tensorflow.keras import layers, Model\n",
        "from tensorflow.keras.models import Sequential\n",
        "from tensorflow.keras.preprocessing.image import load_img, ImageDataGenerator\n",
        "from tensorflow.keras.utils import to_categorical, image_dataset_from_directory\n",
        "from tensorflow.keras.layers import Dense, Flatten, Conv2D, MaxPool2D, Dropout, Resizing, Rescaling, Activation, RandomFlip, RandomRotation, BatchNormalization\n",
        "from sklearn.metrics import confusion_matrix"
      ]
    },
    {
      "cell_type": "markdown",
      "metadata": {
        "id": "rDqbMDrtEfm9"
      },
      "source": [
        "Import Google Drive"
      ]
    },
    {
      "cell_type": "code",
      "execution_count": null,
      "metadata": {
        "colab": {
          "base_uri": "https://localhost:8080/"
        },
        "id": "Gkb3-WvsEYmO",
        "outputId": "898a29db-48bd-457a-fc64-8a037ae548a3"
      },
      "outputs": [
        {
          "output_type": "stream",
          "name": "stdout",
          "text": [
            "Mounted at /content/gdrive\n"
          ]
        }
      ],
      "source": [
        "from google.colab import drive\n",
        "drive.mount('/content/gdrive')"
      ]
    },
    {
      "cell_type": "markdown",
      "metadata": {
        "id": "PSt_D6CtEhx0"
      },
      "source": [
        "Loading Data"
      ]
    },
    {
      "cell_type": "code",
      "execution_count": null,
      "metadata": {
        "colab": {
          "base_uri": "https://localhost:8080/"
        },
        "id": "BkitdsNjEaa0",
        "outputId": "10e2aaff-db24-4a85-be26-7259a147158b"
      },
      "outputs": [
        {
          "output_type": "stream",
          "name": "stdout",
          "text": [
            "Found 5722 files belonging to 4 classes.\n",
            "Found 1321 files belonging to 4 classes.\n"
          ]
        }
      ],
      "source": [
        "train_path = '/content/gdrive/MyDrive/dataset/brain_tumor/Training'\n",
        "test_path = '/content/gdrive/MyDrive/dataset/brain_tumor/Testing'\n",
        " \n",
        "classes = ['notumor', 'glioma', 'meningioma', 'pituitary']\n",
        " \n",
        "train_dataset = image_dataset_from_directory(directory=train_path, label_mode='categorical', class_names=classes)\n",
        "test_dataset = image_dataset_from_directory(directory=test_path, label_mode='categorical', class_names=classes)"
      ]
    },
    {
      "cell_type": "markdown",
      "metadata": {
        "id": "TGQaESKQEn0L"
      },
      "source": [
        "Model Inisialisasi"
      ]
    },
    {
      "cell_type": "code",
      "execution_count": null,
      "metadata": {
        "id": "S4ZYR75_Enok"
      },
      "outputs": [],
      "source": [
        "model = tf.keras.models.Sequential()\n",
        " \n",
        "# Preprocessing \n",
        "model.add(layers.Resizing(height=227, width=227, interpolation='bilinear'))\n",
        "model.add(layers.Rescaling(scale=1./255))\n",
        " \n",
        "# Data Augmentation\n",
        "model.add(layers.RandomFlip(mode='horizontal_and_vertical'))\n",
        "model.add(layers.RandomRotation(factor=.2))\n",
        "\n",
        "# First Convolution\n",
        "model.add(layers.Conv2D(filters=20, kernel_size=(11,11), strides=4))\n",
        "model.add(layers.Activation(\"relu\"))\n",
        "model.add(layers.BatchNormalization())\n",
        "model.add(layers.MaxPool2D(pool_size=(3,3), strides=2, padding=\"valid\"))\n",
        "\n",
        "# Second Convolution\n",
        "model.add(layers.Conv2D(filters=25, kernel_size=(5,5), strides=1))\n",
        "model.add(layers.Activation(\"relu\"))\n",
        "model.add(layers.BatchNormalization())\n",
        "model.add(layers.MaxPool2D(pool_size=(3,3), strides=2, padding=\"valid\"))\n",
        "\n",
        "# Third Convolution\n",
        "model.add(layers.Conv2D(filters=30, kernel_size=(3,3), strides=1))\n",
        "model.add(layers.Activation(\"relu\"))\n",
        "model.add(layers.BatchNormalization())\n",
        "model.add(layers.MaxPool2D(pool_size=(3,3), strides=2, padding=\"valid\"))\n",
        " \n",
        "# Feed forward\n",
        "model.add(layers.Flatten())\n",
        "model.add(layers.Dense(4096))\n",
        "model.add(layers.Activation('relu'))\n",
        "model.add(layers.Dropout(0.2))\n",
        "model.add(layers.Dense(4))\n",
        "model.add(layers.Activation('softmax'))"
      ]
    },
    {
      "cell_type": "markdown",
      "metadata": {
        "id": "dA8efJIvEsL8"
      },
      "source": [
        "Model Training"
      ]
    },
    {
      "cell_type": "code",
      "execution_count": null,
      "metadata": {
        "colab": {
          "base_uri": "https://localhost:8080/"
        },
        "id": "B3-ICs4jEsds",
        "outputId": "eeee8fad-b5f9-4e98-83a2-14567c7aca4c"
      },
      "outputs": [
        {
          "output_type": "stream",
          "name": "stdout",
          "text": [
            "Epoch 1/50\n",
            "179/179 [==============================] - 762s 4s/step - loss: 1.2335 - accuracy: 0.6664 - val_loss: 1.9117 - val_accuracy: 0.4489\n",
            "Epoch 2/50\n",
            "179/179 [==============================] - 22s 121ms/step - loss: 0.6338 - accuracy: 0.7590 - val_loss: 1.7087 - val_accuracy: 0.5102\n",
            "Epoch 3/50\n",
            "179/179 [==============================] - 22s 123ms/step - loss: 0.5349 - accuracy: 0.8048 - val_loss: 7.8504 - val_accuracy: 0.3611\n",
            "Epoch 4/50\n",
            "179/179 [==============================] - 23s 124ms/step - loss: 0.4938 - accuracy: 0.8249 - val_loss: 1.5091 - val_accuracy: 0.6949\n",
            "Epoch 5/50\n",
            "179/179 [==============================] - 23s 124ms/step - loss: 0.4492 - accuracy: 0.8373 - val_loss: 1.0150 - val_accuracy: 0.7699\n",
            "Epoch 6/50\n",
            "179/179 [==============================] - 22s 122ms/step - loss: 0.4272 - accuracy: 0.8520 - val_loss: 1.2947 - val_accuracy: 0.7570\n",
            "Epoch 7/50\n",
            "179/179 [==============================] - 22s 122ms/step - loss: 0.4024 - accuracy: 0.8633 - val_loss: 1.2903 - val_accuracy: 0.7222\n",
            "Epoch 8/50\n",
            "179/179 [==============================] - 22s 121ms/step - loss: 0.3819 - accuracy: 0.8715 - val_loss: 0.5483 - val_accuracy: 0.8085\n",
            "Epoch 9/50\n",
            "179/179 [==============================] - 22s 122ms/step - loss: 0.3528 - accuracy: 0.8822 - val_loss: 1.7302 - val_accuracy: 0.6768\n",
            "Epoch 10/50\n",
            "179/179 [==============================] - 22s 122ms/step - loss: 0.3530 - accuracy: 0.8875 - val_loss: 0.5509 - val_accuracy: 0.8463\n",
            "Epoch 11/50\n",
            "179/179 [==============================] - 22s 122ms/step - loss: 0.3388 - accuracy: 0.8885 - val_loss: 0.4093 - val_accuracy: 0.8796\n",
            "Epoch 12/50\n",
            "179/179 [==============================] - 22s 122ms/step - loss: 0.3242 - accuracy: 0.8979 - val_loss: 1.3122 - val_accuracy: 0.7615\n",
            "Epoch 13/50\n",
            "179/179 [==============================] - 23s 123ms/step - loss: 0.3168 - accuracy: 0.9006 - val_loss: 0.4516 - val_accuracy: 0.8501\n",
            "Epoch 14/50\n",
            "179/179 [==============================] - 22s 122ms/step - loss: 0.3095 - accuracy: 0.9044 - val_loss: 1.3721 - val_accuracy: 0.7146\n",
            "Epoch 15/50\n",
            "179/179 [==============================] - 22s 121ms/step - loss: 0.3009 - accuracy: 0.9046 - val_loss: 0.7729 - val_accuracy: 0.8380\n",
            "Epoch 16/50\n",
            "179/179 [==============================] - 22s 122ms/step - loss: 0.3004 - accuracy: 0.9102 - val_loss: 0.7637 - val_accuracy: 0.8509\n",
            "Epoch 17/50\n",
            "179/179 [==============================] - 23s 124ms/step - loss: 0.3058 - accuracy: 0.9051 - val_loss: 0.6197 - val_accuracy: 0.8781\n",
            "Epoch 18/50\n",
            "179/179 [==============================] - 22s 122ms/step - loss: 0.2915 - accuracy: 0.9109 - val_loss: 0.4051 - val_accuracy: 0.8955\n",
            "Epoch 19/50\n",
            "179/179 [==============================] - 23s 123ms/step - loss: 0.2859 - accuracy: 0.9151 - val_loss: 2.9566 - val_accuracy: 0.6593\n",
            "Epoch 20/50\n",
            "179/179 [==============================] - 22s 122ms/step - loss: 0.2984 - accuracy: 0.9119 - val_loss: 0.4850 - val_accuracy: 0.8827\n",
            "Epoch 21/50\n",
            "179/179 [==============================] - 22s 123ms/step - loss: 0.2659 - accuracy: 0.9233 - val_loss: 2.7180 - val_accuracy: 0.7070\n",
            "Epoch 22/50\n",
            "179/179 [==============================] - 22s 122ms/step - loss: 0.2692 - accuracy: 0.9180 - val_loss: 0.4455 - val_accuracy: 0.8880\n",
            "Epoch 23/50\n",
            "179/179 [==============================] - 22s 122ms/step - loss: 0.2733 - accuracy: 0.9236 - val_loss: 0.7104 - val_accuracy: 0.8494\n",
            "Epoch 24/50\n",
            "179/179 [==============================] - 22s 122ms/step - loss: 0.2552 - accuracy: 0.9215 - val_loss: 0.5468 - val_accuracy: 0.9054\n",
            "Epoch 25/50\n",
            "179/179 [==============================] - 22s 122ms/step - loss: 0.2565 - accuracy: 0.9238 - val_loss: 1.8077 - val_accuracy: 0.7843\n",
            "Epoch 26/50\n",
            "179/179 [==============================] - 22s 122ms/step - loss: 0.2659 - accuracy: 0.9236 - val_loss: 2.5044 - val_accuracy: 0.7252\n",
            "Epoch 27/50\n",
            "179/179 [==============================] - 22s 122ms/step - loss: 0.2472 - accuracy: 0.9247 - val_loss: 0.3444 - val_accuracy: 0.9251\n",
            "Epoch 28/50\n",
            "179/179 [==============================] - 22s 121ms/step - loss: 0.2360 - accuracy: 0.9324 - val_loss: 0.7879 - val_accuracy: 0.8410\n",
            "Epoch 29/50\n",
            "179/179 [==============================] - 22s 122ms/step - loss: 0.2303 - accuracy: 0.9325 - val_loss: 0.9462 - val_accuracy: 0.8251\n",
            "Epoch 30/50\n",
            "179/179 [==============================] - 22s 122ms/step - loss: 0.2479 - accuracy: 0.9325 - val_loss: 19.6940 - val_accuracy: 0.3475\n",
            "Epoch 31/50\n",
            "179/179 [==============================] - 22s 122ms/step - loss: 0.2386 - accuracy: 0.9276 - val_loss: 5.7349 - val_accuracy: 0.5208\n",
            "Epoch 32/50\n",
            "179/179 [==============================] - 22s 121ms/step - loss: 0.2194 - accuracy: 0.9318 - val_loss: 0.2900 - val_accuracy: 0.9092\n",
            "Epoch 33/50\n",
            "179/179 [==============================] - 22s 122ms/step - loss: 0.2110 - accuracy: 0.9346 - val_loss: 0.8429 - val_accuracy: 0.8683\n",
            "Epoch 34/50\n",
            "179/179 [==============================] - 22s 122ms/step - loss: 0.2072 - accuracy: 0.9352 - val_loss: 0.6554 - val_accuracy: 0.8789\n",
            "Epoch 35/50\n",
            "179/179 [==============================] - 23s 123ms/step - loss: 0.2059 - accuracy: 0.9376 - val_loss: 0.3319 - val_accuracy: 0.9205\n",
            "Epoch 36/50\n",
            "179/179 [==============================] - 22s 122ms/step - loss: 0.2176 - accuracy: 0.9392 - val_loss: 0.3431 - val_accuracy: 0.9251\n",
            "Epoch 37/50\n",
            "179/179 [==============================] - 22s 122ms/step - loss: 0.2089 - accuracy: 0.9367 - val_loss: 0.2955 - val_accuracy: 0.9228\n",
            "Epoch 38/50\n",
            "179/179 [==============================] - 22s 121ms/step - loss: 0.1878 - accuracy: 0.9415 - val_loss: 0.8129 - val_accuracy: 0.8592\n",
            "Epoch 39/50\n",
            "179/179 [==============================] - 22s 121ms/step - loss: 0.1988 - accuracy: 0.9408 - val_loss: 0.4075 - val_accuracy: 0.9122\n",
            "Epoch 40/50\n",
            "179/179 [==============================] - 22s 121ms/step - loss: 0.1896 - accuracy: 0.9441 - val_loss: 1.9281 - val_accuracy: 0.7615\n",
            "Epoch 41/50\n",
            "179/179 [==============================] - 22s 121ms/step - loss: 0.1967 - accuracy: 0.9420 - val_loss: 0.5477 - val_accuracy: 0.8834\n",
            "Epoch 42/50\n",
            "179/179 [==============================] - 22s 122ms/step - loss: 0.1956 - accuracy: 0.9399 - val_loss: 0.3934 - val_accuracy: 0.9167\n",
            "Epoch 43/50\n",
            "179/179 [==============================] - 22s 121ms/step - loss: 0.1749 - accuracy: 0.9449 - val_loss: 0.5879 - val_accuracy: 0.8857\n",
            "Epoch 44/50\n",
            "179/179 [==============================] - 22s 122ms/step - loss: 0.1655 - accuracy: 0.9477 - val_loss: 0.3724 - val_accuracy: 0.9076\n",
            "Epoch 45/50\n",
            "179/179 [==============================] - 22s 121ms/step - loss: 0.1792 - accuracy: 0.9470 - val_loss: 0.6554 - val_accuracy: 0.8463\n",
            "Epoch 46/50\n",
            "179/179 [==============================] - 22s 122ms/step - loss: 0.1677 - accuracy: 0.9479 - val_loss: 0.2281 - val_accuracy: 0.9281\n",
            "Epoch 47/50\n",
            "179/179 [==============================] - 22s 122ms/step - loss: 0.1665 - accuracy: 0.9495 - val_loss: 0.4629 - val_accuracy: 0.9076\n",
            "Epoch 48/50\n",
            "179/179 [==============================] - 22s 122ms/step - loss: 0.1570 - accuracy: 0.9484 - val_loss: 10.2696 - val_accuracy: 0.4625\n",
            "Epoch 49/50\n",
            "179/179 [==============================] - 22s 121ms/step - loss: 0.1591 - accuracy: 0.9542 - val_loss: 0.4974 - val_accuracy: 0.8668\n",
            "Epoch 50/50\n",
            "179/179 [==============================] - 22s 121ms/step - loss: 0.1409 - accuracy: 0.9554 - val_loss: 0.2552 - val_accuracy: 0.9379\n"
          ]
        }
      ],
      "source": [
        "optimizer = tf.keras.optimizers.RMSprop(learning_rate=0.001, decay=1e-6)\n",
        "model.compile(optimizer=optimizer, loss='categorical_crossentropy', metrics=['accuracy'])\n",
        " \n",
        "history = model.fit(train_dataset, epochs=50, validation_data=test_dataset)"
      ]
    },
    {
      "cell_type": "markdown",
      "metadata": {
        "id": "j6xrkeiVZ3O_"
      },
      "source": [
        "Model Evaluate"
      ]
    },
    {
      "cell_type": "code",
      "execution_count": null,
      "metadata": {
        "colab": {
          "base_uri": "https://localhost:8080/"
        },
        "id": "KyW0BRBsGG1z",
        "outputId": "86361aa2-b8b5-4b8c-b460-6310c2bdb7a7"
      },
      "outputs": [
        {
          "output_type": "stream",
          "name": "stdout",
          "text": [
            "42/42 [==============================] - 3s 67ms/step - loss: 0.2552 - accuracy: 0.9379\n"
          ]
        },
        {
          "output_type": "execute_result",
          "data": {
            "text/plain": [
              "[0.2552044689655304, 0.9379258155822754]"
            ]
          },
          "metadata": {},
          "execution_count": 6
        }
      ],
      "source": [
        "model.evaluate(test_dataset)"
      ]
    },
    {
      "cell_type": "markdown",
      "metadata": {
        "id": "EuAHrvuVFD8O"
      },
      "source": [
        "Model Summary"
      ]
    },
    {
      "cell_type": "code",
      "execution_count": null,
      "metadata": {
        "id": "DDETU-BdFER0",
        "colab": {
          "base_uri": "https://localhost:8080/"
        },
        "outputId": "8b176193-ae64-4fae-e8c8-4abebefc3afb"
      },
      "outputs": [
        {
          "output_type": "stream",
          "name": "stdout",
          "text": [
            "Model: \"sequential\"\n",
            "_________________________________________________________________\n",
            " Layer (type)                Output Shape              Param #   \n",
            "=================================================================\n",
            " resizing (Resizing)         (None, 227, 227, 3)       0         \n",
            "                                                                 \n",
            " rescaling (Rescaling)       (None, 227, 227, 3)       0         \n",
            "                                                                 \n",
            " random_flip (RandomFlip)    (None, 227, 227, 3)       0         \n",
            "                                                                 \n",
            " random_rotation (RandomRota  (None, 227, 227, 3)      0         \n",
            " tion)                                                           \n",
            "                                                                 \n",
            " conv2d (Conv2D)             (None, 55, 55, 20)        7280      \n",
            "                                                                 \n",
            " activation (Activation)     (None, 55, 55, 20)        0         \n",
            "                                                                 \n",
            " batch_normalization (BatchN  (None, 55, 55, 20)       80        \n",
            " ormalization)                                                   \n",
            "                                                                 \n",
            " max_pooling2d (MaxPooling2D  (None, 27, 27, 20)       0         \n",
            " )                                                               \n",
            "                                                                 \n",
            " conv2d_1 (Conv2D)           (None, 23, 23, 25)        12525     \n",
            "                                                                 \n",
            " activation_1 (Activation)   (None, 23, 23, 25)        0         \n",
            "                                                                 \n",
            " batch_normalization_1 (Batc  (None, 23, 23, 25)       100       \n",
            " hNormalization)                                                 \n",
            "                                                                 \n",
            " max_pooling2d_1 (MaxPooling  (None, 11, 11, 25)       0         \n",
            " 2D)                                                             \n",
            "                                                                 \n",
            " conv2d_2 (Conv2D)           (None, 9, 9, 30)          6780      \n",
            "                                                                 \n",
            " activation_2 (Activation)   (None, 9, 9, 30)          0         \n",
            "                                                                 \n",
            " batch_normalization_2 (Batc  (None, 9, 9, 30)         120       \n",
            " hNormalization)                                                 \n",
            "                                                                 \n",
            " max_pooling2d_2 (MaxPooling  (None, 4, 4, 30)         0         \n",
            " 2D)                                                             \n",
            "                                                                 \n",
            " flatten (Flatten)           (None, 480)               0         \n",
            "                                                                 \n",
            " dense (Dense)               (None, 4096)              1970176   \n",
            "                                                                 \n",
            " activation_3 (Activation)   (None, 4096)              0         \n",
            "                                                                 \n",
            " dropout (Dropout)           (None, 4096)              0         \n",
            "                                                                 \n",
            " dense_1 (Dense)             (None, 4)                 16388     \n",
            "                                                                 \n",
            " activation_4 (Activation)   (None, 4)                 0         \n",
            "                                                                 \n",
            "=================================================================\n",
            "Total params: 2,013,449\n",
            "Trainable params: 2,013,299\n",
            "Non-trainable params: 150\n",
            "_________________________________________________________________\n"
          ]
        }
      ],
      "source": [
        "model.summary()"
      ]
    },
    {
      "cell_type": "markdown",
      "metadata": {
        "id": "Te3YUR6s0t8P"
      },
      "source": [
        "Model save"
      ]
    },
    {
      "cell_type": "code",
      "execution_count": null,
      "metadata": {
        "id": "5Go3tz0u0wC5"
      },
      "outputs": [],
      "source": [
        "model.save('CNN_Modifikasi_1.h5')"
      ]
    },
    {
      "cell_type": "markdown",
      "metadata": {
        "id": "fg5sqgd5FEs7"
      },
      "source": [
        "Training Plot"
      ]
    },
    {
      "cell_type": "code",
      "execution_count": null,
      "metadata": {
        "colab": {
          "base_uri": "https://localhost:8080/",
          "height": 392
        },
        "id": "Ni7ZX0TKFFB8",
        "outputId": "957110bc-ffad-44a9-94de-e1da6f4bf6e7"
      },
      "outputs": [
        {
          "output_type": "stream",
          "name": "stderr",
          "text": [
            "<ipython-input-9-f531bae1360e>:10: MatplotlibDeprecationWarning: Adding an axes using the same arguments as a previous axes currently reuses the earlier instance.  In a future version, a new instance will always be created and returned.  Meanwhile, this warning can be suppressed, and the future behavior ensured, by passing a unique label to each axes instance.\n",
            "  plt.subplot(1,2,2)\n"
          ]
        },
        {
          "output_type": "display_data",
          "data": {
            "text/plain": [
              "<Figure size 864x360 with 2 Axes>"
            ],
            "image/png": "[encoded data removed]"
          },
          "metadata": {
            "needs_background": "light"
          }
        }
      ],
      "source": [
        "plt.figure(figsize=(12,5))\n",
        "plt.subplot(122)\n",
        " \n",
        "plt.subplot(1,2,1)\n",
        "plt.plot(history.history['accuracy'])\n",
        "plt.plot(history.history['val_accuracy'])\n",
        "plt.legend(['Training', 'Validation'])\n",
        "plt.title('Model accuracy')\n",
        " \n",
        "plt.subplot(1,2,2)\n",
        "plt.plot(history.history['loss'])\n",
        "plt.plot(history.history['val_loss'])\n",
        "plt.legend(['Training', 'Validation'])\n",
        "plt.title('Model loss')\n",
        " \n",
        "plt.show()"
      ]
    },
    {
      "cell_type": "markdown",
      "metadata": {
        "id": "ORawwqH3FQjE"
      },
      "source": [
        "Confusion Matrix Plot"
      ]
    },
    {
      "cell_type": "code",
      "execution_count": null,
      "metadata": {
        "colab": {
          "base_uri": "https://localhost:8080/"
        },
        "id": "68FkFfEqFQ7K",
        "outputId": "43af3267-1c24-465c-d9b2-241585107e23"
      },
      "outputs": [
        {
          "output_type": "stream",
          "name": "stdout",
          "text": [
            "1/1 [==============================] - 0s 142ms/step\n",
            "1/1 [==============================] - 0s 39ms/step\n",
            "1/1 [==============================] - 0s 44ms/step\n",
            "1/1 [==============================] - 0s 51ms/step\n",
            "1/1 [==============================] - 0s 49ms/step\n",
            "1/1 [==============================] - 0s 58ms/step\n",
            "1/1 [==============================] - 0s 39ms/step\n",
            "1/1 [==============================] - 0s 40ms/step\n",
            "1/1 [==============================] - 0s 39ms/step\n",
            "1/1 [==============================] - 0s 42ms/step\n",
            "1/1 [==============================] - 0s 35ms/step\n",
            "1/1 [==============================] - 0s 37ms/step\n",
            "1/1 [==============================] - 0s 59ms/step\n",
            "1/1 [==============================] - 0s 49ms/step\n",
            "1/1 [==============================] - 0s 56ms/step\n",
            "1/1 [==============================] - 0s 70ms/step\n",
            "1/1 [==============================] - 0s 42ms/step\n",
            "1/1 [==============================] - 0s 41ms/step\n",
            "1/1 [==============================] - 0s 48ms/step\n",
            "1/1 [==============================] - 0s 73ms/step\n",
            "1/1 [==============================] - 0s 40ms/step\n",
            "1/1 [==============================] - 0s 36ms/step\n",
            "1/1 [==============================] - 0s 43ms/step\n",
            "1/1 [==============================] - 0s 55ms/step\n",
            "1/1 [==============================] - 0s 53ms/step\n",
            "1/1 [==============================] - 0s 65ms/step\n",
            "1/1 [==============================] - 0s 61ms/step\n",
            "1/1 [==============================] - 0s 45ms/step\n",
            "1/1 [==============================] - 0s 63ms/step\n",
            "1/1 [==============================] - 0s 43ms/step\n",
            "1/1 [==============================] - 0s 38ms/step\n",
            "1/1 [==============================] - 0s 41ms/step\n",
            "1/1 [==============================] - 0s 31ms/step\n",
            "1/1 [==============================] - 0s 28ms/step\n",
            "1/1 [==============================] - 0s 30ms/step\n",
            "1/1 [==============================] - 0s 29ms/step\n",
            "1/1 [==============================] - 0s 31ms/step\n",
            "1/1 [==============================] - 0s 32ms/step\n",
            "1/1 [==============================] - 0s 29ms/step\n",
            "1/1 [==============================] - 0s 31ms/step\n",
            "1/1 [==============================] - 0s 28ms/step\n",
            "1/1 [==============================] - 0s 99ms/step\n"
          ]
        }
      ],
      "source": [
        "true_labels = []\n",
        "predicted_labels = []\n",
        " \n",
        "for x, y in test_dataset:\n",
        "    true_labels.append(y)\n",
        "    predicted_labels.append(model.predict(x))\n",
        "    \n",
        "true_labels = np.concatenate(true_labels, axis=0)\n",
        "predicted_labels = np.concatenate(predicted_labels, axis=0)"
      ]
    },
    {
      "cell_type": "code",
      "execution_count": null,
      "metadata": {
        "id": "vDNGaEtEFRgj"
      },
      "outputs": [],
      "source": [
        "true_labels_list = []\n",
        "predicted_labels_list = [] \n",
        " \n",
        "for (tr_lbl, pr_lbl) in zip (true_labels, predicted_labels):\n",
        "    true_labels_list.append(np.argmax(tr_lbl))\n",
        "    predicted_labels_list.append(np.argmax(pr_lbl))\n",
        "    \n",
        "true_labels_list = np.array(true_labels_list)\n",
        "predicted_labels_list = np.array(predicted_labels_list)"
      ]
    },
    {
      "cell_type": "code",
      "execution_count": null,
      "metadata": {
        "colab": {
          "base_uri": "https://localhost:8080/",
          "height": 449
        },
        "id": "9ZKl_0NZiKr2",
        "outputId": "db69d569-790f-48e6-c85f-4d161f36b199"
      },
      "outputs": [
        {
          "output_type": "display_data",
          "data": {
            "text/plain": [
              "<Figure size 560x420 with 2 Axes>"
            ],
            "image/png": "[encoded data removed]"
          },
          "metadata": {}
        }
      ],
      "source": [
        "labels = ['No tumor', 'Glioma', 'Meningioma', 'Pituitary']\n",
        "cnf = confusion_matrix(true_labels_list, predicted_labels_list)\n",
        "plt.figure(figsize=(8,6), dpi=70, facecolor='w', edgecolor='k')\n",
        "ax = sns.heatmap(cnf, cmap='Blues', annot=True, fmt = 'd')\n",
        "plt.ylabel('True classes')\n",
        "yticks, _ = plt.yticks()\n",
        "plt.yticks(ticks=yticks, labels=labels, rotation=45)\n",
        " \n",
        "plt.xlabel('Predicted classes')\n",
        "xticks, _ = plt.xticks()\n",
        "plt.xticks(ticks=xticks, labels=labels, rotation=45)\n",
        "plt.title('Brain Tumor MRI Classification\\nAlexNet Modification 1')\n",
        "plt.show(ax)"
      ]
    }
  ],
  "metadata": {
    "accelerator": "GPU",
    "colab": {
      "provenance": []
    },
    "gpuClass": "standard",
    "kernelspec": {
      "display_name": "Python 3",
      "name": "python3"
    },
    "language_info": {
      "name": "python"
    }
  },
  "nbformat": 4,
  "nbformat_minor": 0
}